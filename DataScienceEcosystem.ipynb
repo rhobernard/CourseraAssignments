{
 "cells": [
  {
   "cell_type": "markdown",
   "id": "1d3f720e-2476-456f-9a22-329b7520f7a3",
   "metadata": {},
   "source": [
    "# Data Science Tools and Ecosystem"
   ]
  },
  {
   "cell_type": "markdown",
   "id": "733b3d72-aa7f-4c85-8272-f0978f4a5d46",
   "metadata": {},
   "source": [
    "In this notebook, Data Science Tools and Ecosystem are summarized."
   ]
  },
  {
   "cell_type": "markdown",
   "id": "868c7212-1431-4f2c-822f-38cb04207b6b",
   "metadata": {},
   "source": [
    "*Objectives:*\n",
    "* to list commonly used languages for data science\n",
    "* to list commonly used libraries in data science\n",
    "* to list development environment open source tools used in data science.\n",
    "* to create a markdown using arithmetic expressions\n",
    "* to write comment lines before expressions"
   ]
  },
  {
   "cell_type": "markdown",
   "id": "cfa82ee2-703d-4f73-b7e7-dc1d84b5f507",
   "metadata": {},
   "source": [
    "Some of the popular languages that Data Scientists use are\n",
    "1. Julia\n",
    "2. Python\n",
    "3. R"
   ]
  },
  {
   "cell_type": "markdown",
   "id": "780e587b-23dc-485d-96f7-3a2c99a2987d",
   "metadata": {},
   "source": [
    "Some of the commonly used libraries used by Data Scientists include:\n",
    "1. Pandas\n",
    "2. NumPy\n",
    "3. Matplotlib\n",
    "4. Seaborn"
   ]
  },
  {
   "cell_type": "markdown",
   "id": "56641e13-c2ec-4a85-8d34-e56679403b45",
   "metadata": {},
   "source": [
    "| Data Science Tools |\n",
    "----------------------\n",
    "| Jupyter Notebook |\n",
    "| Jupyter Lab |\n",
    "| Apache Zeppelin |\n",
    "| R Studio |\n",
    "| Spyder |"
   ]
  },
  {
   "cell_type": "markdown",
   "id": "3c0381bb-f0d5-4371-9d71-c310743e8a77",
   "metadata": {},
   "source": [
    "### Below are a few examples of evaluating arithmetic expressions in Python"
   ]
  },
  {
   "cell_type": "code",
   "execution_count": 1,
   "id": "e1d48b43-443c-4ac9-9d9b-5a1b128dbdb8",
   "metadata": {
    "tags": []
   },
   "outputs": [
    {
     "data": {
      "text/plain": [
       "17"
      ]
     },
     "execution_count": 1,
     "metadata": {},
     "output_type": "execute_result"
    }
   ],
   "source": [
    "#This a simple arithmetic expression to mutiply then add integers\n",
    "(3*4)+5"
   ]
  },
  {
   "cell_type": "code",
   "execution_count": 2,
   "id": "f3335e69-9abe-46d9-a2b7-86809f9ceed1",
   "metadata": {
    "tags": []
   },
   "outputs": [
    {
     "data": {
      "text/plain": [
       "3.3333333333333335"
      ]
     },
     "execution_count": 2,
     "metadata": {},
     "output_type": "execute_result"
    }
   ],
   "source": [
    "#This will convert 200 minutes to hours by diving by 60\n",
    "200/60"
   ]
  },
  {
   "cell_type": "markdown",
   "id": "bc07cc24-7689-4496-93c3-ad8ecfabe4e8",
   "metadata": {
    "tags": []
   },
   "source": [
    "## Author\n",
    "Rhommel Bernardino"
   ]
  },
  {
   "cell_type": "code",
   "execution_count": null,
   "id": "3006b34c-9109-4a47-b4ad-3b7f767f9d89",
   "metadata": {},
   "outputs": [],
   "source": []
  }
 ],
 "metadata": {
  "kernelspec": {
   "display_name": "Python 3 (ipykernel)",
   "language": "python",
   "name": "python3"
  },
  "language_info": {
   "codemirror_mode": {
    "name": "ipython",
    "version": 3
   },
   "file_extension": ".py",
   "mimetype": "text/x-python",
   "name": "python",
   "nbconvert_exporter": "python",
   "pygments_lexer": "ipython3",
   "version": "3.11.5"
  }
 },
 "nbformat": 4,
 "nbformat_minor": 5
}
